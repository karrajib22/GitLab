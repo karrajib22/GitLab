{
 "cells": [
  {
   "cell_type": "code",
   "execution_count": 2,
   "metadata": {},
   "outputs": [
    {
     "data": {
      "text/plain": [
       "'/Users/rajibkar/RKAR/Study Material/Data Science/Lab'"
      ]
     },
     "execution_count": 2,
     "metadata": {},
     "output_type": "execute_result"
    }
   ],
   "source": [
    "import os\n",
    "os.getcwd()"
   ]
  },
  {
   "cell_type": "code",
   "execution_count": 4,
   "metadata": {},
   "outputs": [
    {
     "name": "stdout",
     "output_type": "stream",
     "text": [
      "78.53981633974483\n",
      "16\n",
      "5.0\n"
     ]
    }
   ],
   "source": [
    "import math\n",
    " \n",
    "# Area of circle with radius 5\n",
    "print(25*math.pi)\n",
    " \n",
    "# Two to the fourth\n",
    "print(2**4)\n",
    " \n",
    "# Length of triangle's hypotenuse\n",
    "print(math.sqrt(3**2 + 4**2))"
   ]
  },
  {
   "cell_type": "code",
   "execution_count": 5,
   "metadata": {},
   "outputs": [
    {
     "name": "stdout",
     "output_type": "stream",
     "text": [
      "The length of the hypotenuse is 5.0\n"
     ]
    }
   ],
   "source": [
    "#Python objects (variables)Python\n",
    "\n",
    "message = \"The length of the hypotenuse is\"\n",
    "c = math.sqrt(3**2 + 4**2)\n",
    "print( message, c )"
   ]
  },
  {
   "cell_type": "code",
   "execution_count": 6,
   "metadata": {},
   "outputs": [],
   "source": [
    "import pandas as pd\n",
    " \n",
    "import matplotlib.pyplot as plt\n",
    "\n",
    "#matplotlib output will be inside notebook\n",
    "%matplotlib inline\n",
    " \n",
    "from sklearn.linear_model import LinearRegression"
   ]
  },
  {
   "cell_type": "code",
   "execution_count": 12,
   "metadata": {},
   "outputs": [
    {
     "name": "stdout",
     "output_type": "stream",
     "text": [
      "               X1          X2          X3          X4         X5          X6  \\\n",
      "count  768.000000  768.000000  768.000000  768.000000  768.00000  768.000000   \n",
      "mean     0.764167  671.708333  318.500000  176.604167    5.25000    3.500000   \n",
      "std      0.105777   88.086116   43.626481   45.165950    1.75114    1.118763   \n",
      "min      0.620000  514.500000  245.000000  110.250000    3.50000    2.000000   \n",
      "25%      0.682500  606.375000  294.000000  140.875000    3.50000    2.750000   \n",
      "50%      0.750000  673.750000  318.500000  183.750000    5.25000    3.500000   \n",
      "75%      0.830000  741.125000  343.000000  220.500000    7.00000    4.250000   \n",
      "max      0.980000  808.500000  416.500000  220.500000    7.00000    5.000000   \n",
      "\n",
      "               X7         X8          Y1          Y2  \n",
      "count  768.000000  768.00000  768.000000  768.000000  \n",
      "mean     0.234375    2.81250   22.307195   24.587760  \n",
      "std      0.133221    1.55096   10.090204    9.513306  \n",
      "min      0.000000    0.00000    6.010000   10.900000  \n",
      "25%      0.100000    1.75000   12.992500   15.620000  \n",
      "50%      0.250000    3.00000   18.950000   22.080000  \n",
      "75%      0.400000    4.00000   31.667500   33.132500  \n",
      "max      0.400000    5.00000   43.100000   48.030000  \n",
      "     X1     X2     X3      X4   X5  X6   X7  X8     Y1     Y2\n",
      "0  0.98  514.5  294.0  110.25  7.0   2  0.0   0  15.55  21.33\n",
      "1  0.98  514.5  294.0  110.25  7.0   3  0.0   0  15.55  21.33\n",
      "2  0.98  514.5  294.0  110.25  7.0   4  0.0   0  15.55  21.33\n",
      "3  0.98  514.5  294.0  110.25  7.0   5  0.0   0  15.55  21.33\n",
      "4  0.90  563.5  318.5  122.50  7.0   2  0.0   0  20.84  28.28\n"
     ]
    },
    {
     "data": {
      "text/html": [
       "<style  type=\"text/css\" >\n",
       "</style>  \n",
       "<table id=\"T_95980b08_2e5e_11ea_b2a8_38f9d34ed992\" > \n",
       "<thead>    <tr> \n",
       "        <th class=\"col_heading level0 col0\" >X1</th> \n",
       "        <th class=\"col_heading level0 col1\" >X2</th> \n",
       "        <th class=\"col_heading level0 col2\" >X3</th> \n",
       "        <th class=\"col_heading level0 col3\" >X4</th> \n",
       "        <th class=\"col_heading level0 col4\" >X5</th> \n",
       "        <th class=\"col_heading level0 col5\" >X6</th> \n",
       "        <th class=\"col_heading level0 col6\" >X7</th> \n",
       "        <th class=\"col_heading level0 col7\" >X8</th> \n",
       "        <th class=\"col_heading level0 col8\" >Y1</th> \n",
       "        <th class=\"col_heading level0 col9\" >Y2</th> \n",
       "    </tr></thead> \n",
       "<tbody>    <tr> \n",
       "        <td id=\"T_95980b08_2e5e_11ea_b2a8_38f9d34ed992row0_col0\" class=\"data row0 col0\" >0.98</td> \n",
       "        <td id=\"T_95980b08_2e5e_11ea_b2a8_38f9d34ed992row0_col1\" class=\"data row0 col1\" >514.5</td> \n",
       "        <td id=\"T_95980b08_2e5e_11ea_b2a8_38f9d34ed992row0_col2\" class=\"data row0 col2\" >294</td> \n",
       "        <td id=\"T_95980b08_2e5e_11ea_b2a8_38f9d34ed992row0_col3\" class=\"data row0 col3\" >110.25</td> \n",
       "        <td id=\"T_95980b08_2e5e_11ea_b2a8_38f9d34ed992row0_col4\" class=\"data row0 col4\" >7</td> \n",
       "        <td id=\"T_95980b08_2e5e_11ea_b2a8_38f9d34ed992row0_col5\" class=\"data row0 col5\" >2</td> \n",
       "        <td id=\"T_95980b08_2e5e_11ea_b2a8_38f9d34ed992row0_col6\" class=\"data row0 col6\" >0</td> \n",
       "        <td id=\"T_95980b08_2e5e_11ea_b2a8_38f9d34ed992row0_col7\" class=\"data row0 col7\" >0</td> \n",
       "        <td id=\"T_95980b08_2e5e_11ea_b2a8_38f9d34ed992row0_col8\" class=\"data row0 col8\" >15.55</td> \n",
       "        <td id=\"T_95980b08_2e5e_11ea_b2a8_38f9d34ed992row0_col9\" class=\"data row0 col9\" >21.33</td> \n",
       "    </tr>    <tr> \n",
       "        <td id=\"T_95980b08_2e5e_11ea_b2a8_38f9d34ed992row1_col0\" class=\"data row1 col0\" >0.98</td> \n",
       "        <td id=\"T_95980b08_2e5e_11ea_b2a8_38f9d34ed992row1_col1\" class=\"data row1 col1\" >514.5</td> \n",
       "        <td id=\"T_95980b08_2e5e_11ea_b2a8_38f9d34ed992row1_col2\" class=\"data row1 col2\" >294</td> \n",
       "        <td id=\"T_95980b08_2e5e_11ea_b2a8_38f9d34ed992row1_col3\" class=\"data row1 col3\" >110.25</td> \n",
       "        <td id=\"T_95980b08_2e5e_11ea_b2a8_38f9d34ed992row1_col4\" class=\"data row1 col4\" >7</td> \n",
       "        <td id=\"T_95980b08_2e5e_11ea_b2a8_38f9d34ed992row1_col5\" class=\"data row1 col5\" >3</td> \n",
       "        <td id=\"T_95980b08_2e5e_11ea_b2a8_38f9d34ed992row1_col6\" class=\"data row1 col6\" >0</td> \n",
       "        <td id=\"T_95980b08_2e5e_11ea_b2a8_38f9d34ed992row1_col7\" class=\"data row1 col7\" >0</td> \n",
       "        <td id=\"T_95980b08_2e5e_11ea_b2a8_38f9d34ed992row1_col8\" class=\"data row1 col8\" >15.55</td> \n",
       "        <td id=\"T_95980b08_2e5e_11ea_b2a8_38f9d34ed992row1_col9\" class=\"data row1 col9\" >21.33</td> \n",
       "    </tr>    <tr> \n",
       "        <td id=\"T_95980b08_2e5e_11ea_b2a8_38f9d34ed992row2_col0\" class=\"data row2 col0\" >0.98</td> \n",
       "        <td id=\"T_95980b08_2e5e_11ea_b2a8_38f9d34ed992row2_col1\" class=\"data row2 col1\" >514.5</td> \n",
       "        <td id=\"T_95980b08_2e5e_11ea_b2a8_38f9d34ed992row2_col2\" class=\"data row2 col2\" >294</td> \n",
       "        <td id=\"T_95980b08_2e5e_11ea_b2a8_38f9d34ed992row2_col3\" class=\"data row2 col3\" >110.25</td> \n",
       "        <td id=\"T_95980b08_2e5e_11ea_b2a8_38f9d34ed992row2_col4\" class=\"data row2 col4\" >7</td> \n",
       "        <td id=\"T_95980b08_2e5e_11ea_b2a8_38f9d34ed992row2_col5\" class=\"data row2 col5\" >4</td> \n",
       "        <td id=\"T_95980b08_2e5e_11ea_b2a8_38f9d34ed992row2_col6\" class=\"data row2 col6\" >0</td> \n",
       "        <td id=\"T_95980b08_2e5e_11ea_b2a8_38f9d34ed992row2_col7\" class=\"data row2 col7\" >0</td> \n",
       "        <td id=\"T_95980b08_2e5e_11ea_b2a8_38f9d34ed992row2_col8\" class=\"data row2 col8\" >15.55</td> \n",
       "        <td id=\"T_95980b08_2e5e_11ea_b2a8_38f9d34ed992row2_col9\" class=\"data row2 col9\" >21.33</td> \n",
       "    </tr>    <tr> \n",
       "        <td id=\"T_95980b08_2e5e_11ea_b2a8_38f9d34ed992row3_col0\" class=\"data row3 col0\" >0.98</td> \n",
       "        <td id=\"T_95980b08_2e5e_11ea_b2a8_38f9d34ed992row3_col1\" class=\"data row3 col1\" >514.5</td> \n",
       "        <td id=\"T_95980b08_2e5e_11ea_b2a8_38f9d34ed992row3_col2\" class=\"data row3 col2\" >294</td> \n",
       "        <td id=\"T_95980b08_2e5e_11ea_b2a8_38f9d34ed992row3_col3\" class=\"data row3 col3\" >110.25</td> \n",
       "        <td id=\"T_95980b08_2e5e_11ea_b2a8_38f9d34ed992row3_col4\" class=\"data row3 col4\" >7</td> \n",
       "        <td id=\"T_95980b08_2e5e_11ea_b2a8_38f9d34ed992row3_col5\" class=\"data row3 col5\" >5</td> \n",
       "        <td id=\"T_95980b08_2e5e_11ea_b2a8_38f9d34ed992row3_col6\" class=\"data row3 col6\" >0</td> \n",
       "        <td id=\"T_95980b08_2e5e_11ea_b2a8_38f9d34ed992row3_col7\" class=\"data row3 col7\" >0</td> \n",
       "        <td id=\"T_95980b08_2e5e_11ea_b2a8_38f9d34ed992row3_col8\" class=\"data row3 col8\" >15.55</td> \n",
       "        <td id=\"T_95980b08_2e5e_11ea_b2a8_38f9d34ed992row3_col9\" class=\"data row3 col9\" >21.33</td> \n",
       "    </tr>    <tr> \n",
       "        <td id=\"T_95980b08_2e5e_11ea_b2a8_38f9d34ed992row4_col0\" class=\"data row4 col0\" >0.9</td> \n",
       "        <td id=\"T_95980b08_2e5e_11ea_b2a8_38f9d34ed992row4_col1\" class=\"data row4 col1\" >563.5</td> \n",
       "        <td id=\"T_95980b08_2e5e_11ea_b2a8_38f9d34ed992row4_col2\" class=\"data row4 col2\" >318.5</td> \n",
       "        <td id=\"T_95980b08_2e5e_11ea_b2a8_38f9d34ed992row4_col3\" class=\"data row4 col3\" >122.5</td> \n",
       "        <td id=\"T_95980b08_2e5e_11ea_b2a8_38f9d34ed992row4_col4\" class=\"data row4 col4\" >7</td> \n",
       "        <td id=\"T_95980b08_2e5e_11ea_b2a8_38f9d34ed992row4_col5\" class=\"data row4 col5\" >2</td> \n",
       "        <td id=\"T_95980b08_2e5e_11ea_b2a8_38f9d34ed992row4_col6\" class=\"data row4 col6\" >0</td> \n",
       "        <td id=\"T_95980b08_2e5e_11ea_b2a8_38f9d34ed992row4_col7\" class=\"data row4 col7\" >0</td> \n",
       "        <td id=\"T_95980b08_2e5e_11ea_b2a8_38f9d34ed992row4_col8\" class=\"data row4 col8\" >20.84</td> \n",
       "        <td id=\"T_95980b08_2e5e_11ea_b2a8_38f9d34ed992row4_col9\" class=\"data row4 col9\" >28.28</td> \n",
       "    </tr></tbody> \n",
       "</table> "
      ],
      "text/plain": [
       "<pandas.io.formats.style.Styler at 0x1a1aef78d0>"
      ]
     },
     "execution_count": 12,
     "metadata": {},
     "output_type": "execute_result"
    }
   ],
   "source": [
    "df = pd.read_excel( \"ENB2012_data.xlsx\" )\n",
    "print(df.describe())\n",
    "print(df.head())\n",
    "df.head().style.hide_index()"
   ]
  },
  {
   "cell_type": "code",
   "execution_count": 17,
   "metadata": {},
   "outputs": [
    {
     "name": "stdout",
     "output_type": "stream",
     "text": [
      "(array([128., 128.,  64., 128.,  64.,  64.,  64.,  64.,   0.,  64.]), array([0.62 , 0.656, 0.692, 0.728, 0.764, 0.8  , 0.836, 0.872, 0.908,\n",
      "       0.944, 0.98 ]), <a list of 10 Patch objects>)\n"
     ]
    },
    {
     "data": {
      "image/png": "[encoded data removed]",
      "text/plain": [
       "<Figure size 432x288 with 1 Axes>"
      ]
     },
     "metadata": {
      "needs_background": "light"
     },
     "output_type": "display_data"
    }
   ],
   "source": [
    "print(plt.hist( df.X1 ))"
   ]
  },
  {
   "cell_type": "code",
   "execution_count": 16,
   "metadata": {},
   "outputs": [
    {
     "name": "stdout",
     "output_type": "stream",
     "text": [
      "(array([256., 192., 128., 128.,  64.]), array([0.62 , 0.692, 0.764, 0.836, 0.908, 0.98 ]), <a list of 5 Patch objects>)\n"
     ]
    },
    {
     "data": {
      "image/png": "[encoded data removed]",
      "text/plain": [
       "<Figure size 432x288 with 1 Axes>"
      ]
     },
     "metadata": {
      "needs_background": "light"
     },
     "output_type": "display_data"
    }
   ],
   "source": [
    "print(plt.hist(df.X1, bins = 5))"
   ]
  },
  {
   "cell_type": "code",
   "execution_count": 19,
   "metadata": {},
   "outputs": [
    {
     "name": "stdout",
     "output_type": "stream",
     "text": [
      "X1    0\n",
      "X2    0\n",
      "X3    0\n",
      "X4    0\n",
      "X5    0\n",
      "X6    0\n",
      "X7    0\n",
      "X8    0\n",
      "Y1    0\n",
      "Y2    0\n",
      "dtype: int64\n"
     ]
    },
    {
     "data": {
      "text/html": [
       "<div>\n",
       "<style scoped>\n",
       "    .dataframe tbody tr th:only-of-type {\n",
       "        vertical-align: middle;\n",
       "    }\n",
       "\n",
       "    .dataframe tbody tr th {\n",
       "        vertical-align: top;\n",
       "    }\n",
       "\n",
       "    .dataframe thead th {\n",
       "        text-align: right;\n",
       "    }\n",
       "</style>\n",
       "<table border=\"1\" class=\"dataframe\">\n",
       "  <thead>\n",
       "    <tr style=\"text-align: right;\">\n",
       "      <th></th>\n",
       "      <th>X1</th>\n",
       "      <th>X2</th>\n",
       "      <th>X3</th>\n",
       "      <th>X4</th>\n",
       "      <th>X5</th>\n",
       "      <th>X6</th>\n",
       "      <th>X7</th>\n",
       "      <th>X8</th>\n",
       "      <th>Y1</th>\n",
       "      <th>Y2</th>\n",
       "    </tr>\n",
       "  </thead>\n",
       "  <tbody>\n",
       "    <tr>\n",
       "      <th>0</th>\n",
       "      <td>False</td>\n",
       "      <td>False</td>\n",
       "      <td>False</td>\n",
       "      <td>False</td>\n",
       "      <td>False</td>\n",
       "      <td>False</td>\n",
       "      <td>False</td>\n",
       "      <td>False</td>\n",
       "      <td>False</td>\n",
       "      <td>False</td>\n",
       "    </tr>\n",
       "    <tr>\n",
       "      <th>1</th>\n",
       "      <td>False</td>\n",
       "      <td>False</td>\n",
       "      <td>False</td>\n",
       "      <td>False</td>\n",
       "      <td>False</td>\n",
       "      <td>False</td>\n",
       "      <td>False</td>\n",
       "      <td>False</td>\n",
       "      <td>False</td>\n",
       "      <td>False</td>\n",
       "    </tr>\n",
       "    <tr>\n",
       "      <th>2</th>\n",
       "      <td>False</td>\n",
       "      <td>False</td>\n",
       "      <td>False</td>\n",
       "      <td>False</td>\n",
       "      <td>False</td>\n",
       "      <td>False</td>\n",
       "      <td>False</td>\n",
       "      <td>False</td>\n",
       "      <td>False</td>\n",
       "      <td>False</td>\n",
       "    </tr>\n",
       "    <tr>\n",
       "      <th>3</th>\n",
       "      <td>False</td>\n",
       "      <td>False</td>\n",
       "      <td>False</td>\n",
       "      <td>False</td>\n",
       "      <td>False</td>\n",
       "      <td>False</td>\n",
       "      <td>False</td>\n",
       "      <td>False</td>\n",
       "      <td>False</td>\n",
       "      <td>False</td>\n",
       "    </tr>\n",
       "    <tr>\n",
       "      <th>4</th>\n",
       "      <td>False</td>\n",
       "      <td>False</td>\n",
       "      <td>False</td>\n",
       "      <td>False</td>\n",
       "      <td>False</td>\n",
       "      <td>False</td>\n",
       "      <td>False</td>\n",
       "      <td>False</td>\n",
       "      <td>False</td>\n",
       "      <td>False</td>\n",
       "    </tr>\n",
       "  </tbody>\n",
       "</table>\n",
       "</div>"
      ],
      "text/plain": [
       "      X1     X2     X3     X4     X5     X6     X7     X8     Y1     Y2\n",
       "0  False  False  False  False  False  False  False  False  False  False\n",
       "1  False  False  False  False  False  False  False  False  False  False\n",
       "2  False  False  False  False  False  False  False  False  False  False\n",
       "3  False  False  False  False  False  False  False  False  False  False\n",
       "4  False  False  False  False  False  False  False  False  False  False"
      ]
     },
     "execution_count": 19,
     "metadata": {},
     "output_type": "execute_result"
    }
   ],
   "source": [
    "# Clean Data set\n",
    "print(df.isnull().sum())\n",
    "df.head().isnull()"
   ]
  },
  {
   "cell_type": "code",
   "execution_count": 20,
   "metadata": {},
   "outputs": [
    {
     "data": {
      "text/plain": [
       "False"
      ]
     },
     "execution_count": 20,
     "metadata": {},
     "output_type": "execute_result"
    }
   ],
   "source": [
    "2 == 'north',\n",
    "3 == 'east',\n",
    "4 == 'south',\n",
    "5 == 'west'"
   ]
  },
  {
   "cell_type": "code",
   "execution_count": 21,
   "metadata": {},
   "outputs": [
    {
     "name": "stdout",
     "output_type": "stream",
     "text": [
      "     X1     X2     X3      X4   X5   X7     Y1     Y2  X6_2  X6_3  X6_4  X6_5  \\\n",
      "0  0.98  514.5  294.0  110.25  7.0  0.0  15.55  21.33     1     0     0     0   \n",
      "1  0.98  514.5  294.0  110.25  7.0  0.0  15.55  21.33     0     1     0     0   \n",
      "2  0.98  514.5  294.0  110.25  7.0  0.0  15.55  21.33     0     0     1     0   \n",
      "3  0.98  514.5  294.0  110.25  7.0  0.0  15.55  21.33     0     0     0     1   \n",
      "4  0.90  563.5  318.5  122.50  7.0  0.0  20.84  28.28     1     0     0     0   \n",
      "\n",
      "   X8_0  X8_1  X8_2  X8_3  X8_4  X8_5  \n",
      "0     1     0     0     0     0     0  \n",
      "1     1     0     0     0     0     0  \n",
      "2     1     0     0     0     0     0  \n",
      "3     1     0     0     0     0     0  \n",
      "4     1     0     0     0     0     0  \n"
     ]
    }
   ],
   "source": [
    "# Create dummy variablesPython\n",
    "df = pd.get_dummies( df, columns = ['X6', 'X8'] )\n",
    "print(df.head())"
   ]
  },
  {
   "cell_type": "code",
   "execution_count": 23,
   "metadata": {},
   "outputs": [
    {
     "name": "stdout",
     "output_type": "stream",
     "text": [
      "0    15.55\n",
      "1    15.55\n",
      "2    15.55\n",
      "3    15.55\n",
      "4    20.84\n",
      "Name: Y1, dtype: float64\n",
      "     X1     X2     X3      X4   X5   X7  X6_2  X6_3  X6_4  X6_5  X8_0  X8_1  \\\n",
      "0  0.98  514.5  294.0  110.25  7.0  0.0     1     0     0     0     1     0   \n",
      "1  0.98  514.5  294.0  110.25  7.0  0.0     0     1     0     0     1     0   \n",
      "2  0.98  514.5  294.0  110.25  7.0  0.0     0     0     1     0     1     0   \n",
      "3  0.98  514.5  294.0  110.25  7.0  0.0     0     0     0     1     1     0   \n",
      "4  0.90  563.5  318.5  122.50  7.0  0.0     1     0     0     0     1     0   \n",
      "\n",
      "   X8_2  X8_3  X8_4  X8_5  \n",
      "0     0     0     0     0  \n",
      "1     0     0     0     0  \n",
      "2     0     0     0     0  \n",
      "3     0     0     0     0  \n",
      "4     0     0     0     0  \n"
     ]
    }
   ],
   "source": [
    "# Target variable\n",
    "y = df.Y1\n",
    " \n",
    "# Input features\n",
    "X = df.drop( ['Y1', 'Y2' ], axis=1)\n",
    "\n",
    "print(y.head())\n",
    "print(X.head())"
   ]
  },
  {
   "cell_type": "code",
   "execution_count": 24,
   "metadata": {},
   "outputs": [
    {
     "data": {
      "text/plain": [
       "LinearRegression(copy_X=True, fit_intercept=True, n_jobs=None,\n",
       "         normalize=False)"
      ]
     },
     "execution_count": 24,
     "metadata": {},
     "output_type": "execute_result"
    }
   ],
   "source": [
    "# Initialize model instance\n",
    "model = LinearRegression()\n",
    " \n",
    "# Train the model on the data\n",
    "model.fit(X, y)"
   ]
  },
  {
   "cell_type": "code",
   "execution_count": 25,
   "metadata": {},
   "outputs": [
    {
     "name": "stdout",
     "output_type": "stream",
     "text": [
      "0.9178571159072202\n"
     ]
    }
   ],
   "source": [
    "from sklearn.metrics import r2_score\n",
    " \n",
    "# Get model R^2\n",
    "y_hat = model.predict(X)\n",
    "print(r2_score(y_hat, y))"
   ]
  },
  {
   "cell_type": "code",
   "execution_count": null,
   "metadata": {},
   "outputs": [],
   "source": []
  }
 ],
 "metadata": {
  "kernelspec": {
   "display_name": "Python 3",
   "language": "python",
   "name": "python3"
  },
  "language_info": {
   "codemirror_mode": {
    "name": "ipython",
    "version": 3
   },
   "file_extension": ".py",
   "mimetype": "text/x-python",
   "name": "python",
   "nbconvert_exporter": "python",
   "pygments_lexer": "ipython3",
   "version": "3.7.1"
  }
 },
 "nbformat": 4,
 "nbformat_minor": 2
}
